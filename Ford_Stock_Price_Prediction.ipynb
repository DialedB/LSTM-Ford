{
  "nbformat": 4,
  "nbformat_minor": 0,
  "metadata": {
    "colab": {
      "provenance": [],
      "toc_visible": true
    },
    "kernelspec": {
      "name": "python3",
      "display_name": "Python 3"
    },
    "language_info": {
      "name": "python"
    }
  },
  "cells": [
    {
      "cell_type": "markdown",
      "source": [
        "# Importing libraries"
      ],
      "metadata": {
        "id": "jR6qHW738auJ"
      }
    },
    {
      "cell_type": "code",
      "execution_count": null,
      "metadata": {
        "id": "RgH91Jdryof1",
        "collapsed": true
      },
      "outputs": [],
      "source": [
        "!pip install yfinance pandas numpy matplotlib seaborn scikit-learn keras\n",
        "\n",
        "import yfinance as yf\n",
        "import pandas as pd\n",
        "import numpy as np\n",
        "import matplotlib.pyplot as plt\n",
        "import seaborn as sns\n",
        "from sklearn.model_selection import train_test_split\n",
        "from keras.models import Sequential\n",
        "from keras.layers import LSTM, Dense\n",
        "from sklearn.metrics import mean_absolute_error, mean_squared_error\n",
        "from sklearn.preprocessing import MinMaxScaler"
      ]
    },
    {
      "cell_type": "markdown",
      "source": [
        "# Introduction\n",
        "\n",
        "## Goal\n",
        "Use a Long Short-Term Memory (LSTM) model to predict the stock price of Ford Motor Company.\n",
        "\n",
        "## Why LSTM?\n",
        "LSTM is a type of Recurrent Neural Network (RNN) built specifically to learn patterns in time-series data — especially when past information matters, as it does for predicting stock prices based on historical data.\n"
      ],
      "metadata": {
        "id": "atfq8tFc3skE"
      }
    },
    {
      "cell_type": "markdown",
      "source": [
        "# Get Ford's Stock Data\n",
        "In order to get the stock data for the Ford stock we'll use **Yahoo Finance** (yfinance)"
      ],
      "metadata": {
        "id": "3vb5lF428uxg"
      }
    },
    {
      "cell_type": "code",
      "source": [
        "stock = 'F'\n",
        "data = yf.download(stock, start = '2016-01-01', end = '2025-01-01')\n",
        "data.head()"
      ],
      "metadata": {
        "id": "4k0TI11n49gD",
        "collapsed": true
      },
      "execution_count": null,
      "outputs": []
    },
    {
      "cell_type": "markdown",
      "source": [
        "With the data now obtained we can visualize it to better understand the data."
      ],
      "metadata": {
        "id": "nTcEmhqJ5IbQ"
      }
    },
    {
      "cell_type": "code",
      "source": [
        "plt.figure(figsize=(10,5))\n",
        "plt.plot(data['Close'])\n",
        "plt.title(f'{stock} Closing Price')\n",
        "plt.xlabel('Date')\n",
        "plt.ylabel('Price')\n",
        "plt.show()"
      ],
      "metadata": {
        "id": "lssZdNjI5ULF"
      },
      "execution_count": null,
      "outputs": []
    },
    {
      "cell_type": "markdown",
      "source": [
        "# Preprocess Data for the LSTM"
      ],
      "metadata": {
        "id": "haXptXO86KUe"
      }
    },
    {
      "cell_type": "code",
      "source": [
        "scaler = MinMaxScaler()\n",
        "scaled_data = scaler.fit_transform(data['Close'])\n",
        "\n",
        "def create_sequences(data, seq_length):\n",
        "    X, y = [], []\n",
        "    for i in range(seq_length, len(data)):\n",
        "        X.append(data[i-seq_length:i, 0])\n",
        "        y.append(data[i, 0])\n",
        "    return np.array(X), np.array(y)\n",
        "\n",
        "sequence_length = 60\n",
        "X, y = create_sequences(scaled_data, sequence_length)\n",
        "\n",
        "X = np.reshape(X, (X.shape[0], X.shape[1], 1))"
      ],
      "metadata": {
        "id": "IATPdZne6Vkh"
      },
      "execution_count": null,
      "outputs": []
    },
    {
      "cell_type": "markdown",
      "source": [
        "# Build the LSTM Model"
      ],
      "metadata": {
        "id": "eNolius-6nx6"
      }
    },
    {
      "cell_type": "code",
      "source": [
        "model = Sequential()\n",
        "model.add(LSTM(50, return_sequences=True, input_shape=(X.shape[1], 1)))\n",
        "model.add(LSTM(50))\n",
        "model.add(Dense(1))\n",
        "model.compile(optimizer='adam', loss='mse')"
      ],
      "metadata": {
        "id": "TIt6WCEB6sef"
      },
      "execution_count": null,
      "outputs": []
    },
    {
      "cell_type": "markdown",
      "source": [
        "# Train/Test split"
      ],
      "metadata": {
        "id": "jxzRiuF17qRE"
      }
    },
    {
      "cell_type": "code",
      "source": [
        "training_size = int(len(scaled_data) * 0.8)\n",
        "train_data = scaled_data[:training_size]\n",
        "test_data = scaled_data[training_size - 60:]\n",
        "\n",
        "X_train, y_train = create_sequences(train_data, sequence_length)\n",
        "X_test, y_test = create_sequences(test_data, sequence_length)\n",
        "\n",
        "X_train = np.reshape(X_train, (X_train.shape[0], X_train.shape[1], 1))\n",
        "X_test = np.reshape(X_test, (X_test.shape[0], X_test.shape[1], 1))"
      ],
      "metadata": {
        "id": "S7euIg5t7z9p"
      },
      "execution_count": null,
      "outputs": []
    },
    {
      "cell_type": "markdown",
      "source": [
        "# Train the model"
      ],
      "metadata": {
        "id": "0nL433d_63kG"
      }
    },
    {
      "cell_type": "code",
      "source": [
        "model.fit(X, y, epochs=20, batch_size=32)"
      ],
      "metadata": {
        "id": "51Fd_N8366dh"
      },
      "execution_count": null,
      "outputs": []
    },
    {
      "cell_type": "markdown",
      "source": [
        "# Predict and Visualize"
      ],
      "metadata": {
        "id": "ANSaxfrO7FQX"
      }
    },
    {
      "cell_type": "code",
      "source": [
        "predicted = model.predict(X_test)\n",
        "predicted_prices = scaler.inverse_transform(predicted)\n",
        "real_prices = scaler.inverse_transform(y_test.reshape(-1,1))\n",
        "\n",
        "plt.figure(figsize=(10,6))\n",
        "plt.plot(real_prices, label='Actual')\n",
        "plt.plot(predicted_prices, label='Predicted')\n",
        "plt.legend()\n",
        "plt.title('Actual vs Predicted Closing Price')\n",
        "plt.show()"
      ],
      "metadata": {
        "id": "jbYq-BAy7Hkv"
      },
      "execution_count": null,
      "outputs": []
    }
  ]
}